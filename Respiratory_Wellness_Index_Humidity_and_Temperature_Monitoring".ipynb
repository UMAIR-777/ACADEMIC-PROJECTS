{
  "nbformat": 4,
  "nbformat_minor": 0,
  "metadata": {
    "colab": {
      "provenance": [],
      "authorship_tag": "ABX9TyO554eiK00CEub2PO1SdZG+",
      "include_colab_link": true
    },
    "kernelspec": {
      "name": "python3",
      "display_name": "Python 3"
    },
    "language_info": {
      "name": "python"
    }
  },
  "cells": [
    {
      "cell_type": "markdown",
      "metadata": {
        "id": "view-in-github",
        "colab_type": "text"
      },
      "source": [
        "<a href=\"https://colab.research.google.com/github/UMAIR-777/ACADEMIC-PROJECTS/blob/main/Respiratory_Wellness_Index_Humidity_and_Temperature_Monitoring%22.ipynb\" target=\"_parent\"><img src=\"https://colab.research.google.com/assets/colab-badge.svg\" alt=\"Open In Colab\"/></a>"
      ]
    },
    {
      "cell_type": "markdown",
      "source": [
        "Sensor Data Logger\n",
        "Overview:\n",
        "This Python script logs data from a DHT sensor (specifically DHT11) to a SQLite database. The script reads temperature and humidity data from the sensor, and then logs this data into a database table named DHT_data. The sample frequency is set to 5 seconds, meaning it samples data every 5 seconds.\n",
        "\n",
        "Requirements\n",
        "Adafruit_DHT: A Python library for reading data from DHT sensors.\n",
        "SQLite: A built-in Python module for interacting with SQLite databases."
      ],
      "metadata": {
        "id": "Ll5Xjs9_tM4J"
      }
    },
    {
      "cell_type": "code",
      "source": [
        "import time\n",
        "import sqlite3\n",
        "import Adafruit_DHT\n",
        "dbname='sensorsData.db'\n",
        "sampleFreq = 5 # time in seconds ==> Sample each 1 min\n",
        "# get data from DHT sensor\n",
        "def getDHTdata():\n",
        "\tDHT11Sensor = Adafruit_DHT.DHT11\n",
        "\tDHTpin = 4\n",
        "\thum, temp = Adafruit_DHT.read_retry(DHT11Sensor, DHTpin)\n",
        "\tif hum is not None and temp is not None:\n",
        "\t\thum = round(hum)\n",
        "\t\ttemp = round(temp, 1)\n",
        "\treturn temp, hum\n",
        "# log sensor data on database\n",
        "def logData (temp, hum):\n",
        "\tconn=sqlite3.connect(dbname)\n",
        "\tcurs=conn.cursor()\n",
        "\tcurs.execute(\"INSERT INTO DHT_data values(datetime('now'), (?), (?))\", (temp, hum))\n",
        "\tconn.commit()\n",
        "\tconn.close()\n",
        "# main function\n",
        "def main():\n",
        "\twhile True:\n",
        "\t\ttemp, hum = getDHTdata()\n",
        "\t\tlogData (temp, hum)\n",
        "\t\ttime.sleep(sampleFreq)\n",
        "# ------------ Execute program\n",
        "main()"
      ],
      "metadata": {
        "id": "VdjItkj5ruFX"
      },
      "execution_count": null,
      "outputs": []
    },
    {
      "cell_type": "code",
      "source": [],
      "metadata": {
        "id": "uEOUP8tJruDd"
      },
      "execution_count": null,
      "outputs": []
    }
  ]
}